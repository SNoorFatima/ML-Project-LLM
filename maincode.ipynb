{
  "cells": [
    {
      "cell_type": "code",
      "execution_count": null,
      "metadata": {
        "colab": {
          "base_uri": "https://localhost:8080/"
        },
        "id": "PTiX2GrPrDRN",
        "outputId": "94e99a6f-ba2e-48c9-ce03-73c2bc3ff295"
      },
      "outputs": [
        {
          "name": "stdout",
          "output_type": "stream",
          "text": [
            "Enter API key for Groq: ··········\n"
          ]
        }
      ],
      "source": [
        "import os\n",
        "import getpass\n",
        "from transformers import AutoTokenizer, AutoModel\n",
        "import torch\n",
        "from langchain.document_loaders import PyPDFLoader\n",
        "from langchain.vectorstores import Chroma\n",
        "from langchain.embeddings import HuggingFaceEmbeddings\n",
        "from langchain.chains import RetrievalQA\n",
        "from langchain.tools import Tool\n",
        "from langchain_groq import ChatGroq\n",
        "from langchain.chains import ConversationalRetrievalChain\n",
        "from langchain.agents import Tool, initialize_agent, AgentType\n",
        "from langchain_core.messages import HumanMessage\n",
        "\n",
        "# Set the API key for Groqcloud\n",
        "if not os.environ.get(\"GROQ_API_KEY\"):\n",
        "    os.environ[\"GROQ_API_KEY\"] = getpass.getpass(\"Enter API key for Groq: \")"
      ]
    },
    {
      "cell_type": "code",
      "execution_count": null,
      "metadata": {
        "colab": {
          "base_uri": "https://localhost:8080/"
        },
        "id": "IxxUs8_9wbia",
        "outputId": "2ad5f3c8-73cd-4ec0-efd2-5cd9e446c057"
      },
      "outputs": [
        {
          "name": "stderr",
          "output_type": "stream",
          "text": [
            "/usr/local/lib/python3.10/dist-packages/huggingface_hub/utils/_auth.py:94: UserWarning: \n",
            "The secret `HF_TOKEN` does not exist in your Colab secrets.\n",
            "To authenticate with the Hugging Face Hub, create a token in your settings tab (https://huggingface.co/settings/tokens), set it as secret in your Google Colab and restart your session.\n",
            "You will be able to reuse this secret in all of your notebooks.\n",
            "Please note that authentication is recommended but still optional to access public models or datasets.\n",
            "  warnings.warn(\n",
            "<ipython-input-2-8f5c690a4d5b>:30: LangChainDeprecationWarning: The class `HuggingFaceEmbeddings` was deprecated in LangChain 0.2.2 and will be removed in 1.0. An updated version of the class exists in the :class:`~langchain-huggingface package and should be used instead. To use it run `pip install -U :class:`~langchain-huggingface` and import as `from :class:`~langchain_huggingface import HuggingFaceEmbeddings``.\n",
            "  hf_embeddings = HuggingFaceEmbeddings(model_name=model_name)\n"
          ]
        }
      ],
      "source": [
        "# Hugging Face model for embeddings\n",
        "model_name = \"sentence-transformers/all-MiniLM-L6-v2\"\n",
        "tokenizer = AutoTokenizer.from_pretrained(model_name)\n",
        "hf_model = AutoModel.from_pretrained(model_name)\n",
        "\n",
        "# Embedding function\n",
        "def generate_embeddings(texts):\n",
        "    inputs = tokenizer(texts, padding=True, truncation=True, return_tensors=\"pt\")\n",
        "    with torch.no_grad():\n",
        "        embeddings = hf_model(**inputs).last_hidden_state.mean(dim=1)  # Mean pooling\n",
        "    return embeddings\n",
        "\n",
        "# Load multiple PDF documents\n",
        "pdf_files = [\n",
        "    \"/content/Calculus.pdf\",\n",
        "    \"/content/Thomas' Calculus--13th Edition.pdf\",\n",
        "    \"/content/Linear Algebra And Its Applications   - David C Lay.pdf\",\n",
        "    \"/content/Walpole Stats.pdf\" # Add more PDFs as needed\n",
        "]\n",
        "\n",
        "documents = []\n",
        "for pdf_file in pdf_files:\n",
        "    loader = PyPDFLoader(pdf_file)\n",
        "    documents.extend(loader.load_and_split())\n",
        "\n",
        "# Convert documents to text for embeddings\n",
        "document_texts = [doc.page_content for doc in documents]\n",
        "\n",
        "# Use Hugging Face Embeddings (LangChain-compatible wrapper)\n",
        "hf_embeddings = HuggingFaceEmbeddings(model_name=model_name)\n",
        "\n",
        "# Create Chroma vectorstore (you can also store embeddings to disk to avoid memory issues)\n",
        "vectorstore = Chroma.from_texts(document_texts, embedding=hf_embeddings)\n",
        "\n",
        "# Set up retriever\n",
        "retriever = vectorstore.as_retriever()\n",
        "\n",
        "\n"
      ]
    },
    {
      "cell_type": "code",
      "execution_count": null,
      "metadata": {
        "colab": {
          "base_uri": "https://localhost:8080/"
        },
        "id": "aUSxpNN7wblv",
        "outputId": "843aeda6-4377-4e42-8796-a35d8b26b9bc"
      },
      "outputs": [
        {
          "name": "stdout",
          "output_type": "stream",
          "text": [
            "Answer: To find the derivative of x^2 + 3x + 2, we can use the power rule of differentiation, which states that if f(x) = x^n, then f'(x) = nx^(n-1).\n",
            "\n",
            "So, for the first term x^2, we have:\n",
            "\n",
            "d(x^2)/dx = 2x^(2-1) = 2x\n",
            "\n",
            "For the second term 3x, we have:\n",
            "\n",
            "d(3x)/dx = 3\n",
            "\n",
            "For the third term 2, we have:\n",
            "\n",
            "d(2)/dx = 0 (since the derivative of a constant is 0)\n",
            "\n",
            "Therefore, the derivative of x^2 + 3x + 2 is:\n",
            "\n",
            "2x + 3\n",
            "\n",
            "This is the same result that would be obtained by using the definition of a derivative and plugging in the function x^2 + 3x + 2.\n",
            "Source Documents: [Document(metadata={}, page_content='Chapter 3 : Derivatives Section 3.1 : The Definition of the Derivative\\nFirstplug the functioninto the definition ofthe derivative.\\nf′ (x) = lim\\nh→0\\nf (x + h) − f (x)\\nh\\n= lim\\nh→0\\n2(x + h)2 − 16 (x + h) + 35 −\\n(\\n2x2 − 16x + 35\\n)\\nh\\nBe careful and make sure that you properly deal with parenthesis when doing the subtract-\\ning.\\nNow,weknowfromthepreviouschapterthatwecan’tjustplugin h = 0 sincethiswillgiveus\\nadivisionbyzeroerror. So,wearegoingtohavetodosomework. Inthiscasethatmeans\\nmultiplyingeverythingoutanddistributingtheminussignthroughonthesecondterm. Doing\\nthisgives,\\nf′ (x) = lim\\nh→0\\n2x2 + 4xh + 2h2 − 16x − 16h + 35 − 2x2 + 16x − 35\\nh\\n= lim\\nh→0\\n4xh + 2h2 − 16h\\nh\\nNotice that every term in the numerator that didn’t have anh in it canceled out and we can\\nnow factor anh out of the numerator which will cancel against theh in the denominator.\\nAfterthat we can computethe limit.\\nf′ (x) = lim\\nh→0\\nh (4x + 2h − 16)\\nh\\n= lim\\nh→0\\n4x + 2h − 16\\n= 4 x − 16\\nSo,the derivative is,\\nf′ (x) = 4 x − 16\\nExample 2\\nFindthe derivative ofthe following functionusing the definitionof the derivative.\\ng (t) = t\\nt + 1\\nSolution\\nThisoneisgoingtobealittlemessierasfarasthealgebragoes. However,outsideofthatit\\n© Paul Dawkins Calculus – 186 –'), Document(metadata={}, page_content='Chapter 3 : Derivatives Section 3.3 : Differentiation Formulas\\nThisis a function thatwe can differentiate.\\nh′ (t) = 6 t2 + 10t−3\\nSo, as we saw in this example there are a few products and quotients that we can differentiate.\\nIf we can first do some simplification the functions will sometimes simplify into a form that can be\\ndifferentiatedusing theproperties and formulasin this section.\\nBefore moving on to the next section let’s work a couple of examples to remind us once again of\\nsomeof the interpretationsof the derivative.\\nExample 3\\nIsf (x) = 2 x3 + 300\\nx3 + 4 increasing,decreasing ornot changing atx = −2?\\nSolution\\nWe know that the rate of change of a function is given by the functions derivative so all\\nwe need to do is it rewrite the function (to deal with the second term) and then take the\\nderivative.\\nf (x) = 2 x3 + 300x−3 + 4 ⇒ f′ (x) = 6 x2 − 900x−4 = 6 x2 − 900\\nx4\\nNotethatwerewrotethelastterminthederivativebackasafraction. Thisisnotsomething\\nwe’ve done to this point and is only being done here to help with the evaluation in the next\\nstep. It’softeneasier to do theevaluation with positiveexponents.\\nSo,upon evaluatingthe derivative we get\\nf′ (−2) = 6 (4) − 900\\n16 = −129\\n4 = −32.25\\nSo,at x = −2 thederivative is negativeand so the functionis decreasing atx = −2.\\n© Paul Dawkins Calculus – 207 –'), Document(metadata={}, page_content='Chapter 4 : Derivative Applications Section 4.2 : Critical Points\\nNow,ourderivativeisapolynomialandsowillexisteverywhere. Therefore,theonlycritical\\npointswill be thosevalues ofx whichmake the derivativezero. So, wemust solve.\\n6x2 (5x − 3) (x + 5) = 0\\nBecausethisisthefactoredformofthederivativeit’sprettyeasytoidentifythethreecritical\\npoints. They are,\\nx = −5, x = 0 , x = 3\\n5\\nPolynomialsareusuallyfairlysimplefunctionstofindcriticalpointsforprovidedthedegreedoesn’t\\ngetso large that wehave trouble findingthe roots of thederivative.\\nMost of the more “interesting” functions for finding critical points aren’t polynomials however. So\\nlet’stake a lookat some functions that requirea little moreefforton our part.\\nExample 2\\nDetermineall the criticalpoints for the function.\\ng (t) =\\n3√\\nt2 (2t − 1)\\nSolution\\nTo find the derivative it’s probably easiest to do a little simplification before we actually dif-\\nferentiate. Let’smultiplytherootthroughtheparenthesisandsimplifyasmuchaspossible.\\nThiswill allow usto avoid using theproduct rule whentaking the derivative.\\ng (t) = t\\n2\\n3 (2t − 1) = 2 t\\n5\\n3 − t\\n2\\n3\\nNowdifferentiate.\\ng′ (t) = 10\\n3 t\\n2\\n3 − 2\\n3t−1\\n3 = 10t\\n2\\n3\\n3 − 2\\n3t\\n1\\n3\\nWewillneedtobecarefulwiththisproblem. Whenfacedwithanegativeexponentitisoften\\nbest to eliminate the minus sign in the exponent as we did above. This isn’t really required\\nbutit can make ourlife easier onoccasion if we dothat.\\nNoticeaswellthateliminatingthenegativeexponentinthesecondtermallowsustocorrectly\\nidentify whyt = 0 is a critical point for this function. Once we move the second term to the\\ndenominator we can clearly see that the derivative doesn’t exist att = 0 and so this will be\\nacriticalpoint. Ifyoudon’tgetridofthenegativeexponentinthesecondtermmanypeople\\nwillincorrectlystatethat t = 0 isacriticalpointbecausethederivativeiszeroat t = 0 . While\\n© Paul Dawkins Calculus – 294 –'), Document(metadata={}, page_content='Chapter 3 : Derivatives Section 3.12 : Higher Order Derivatives\\n3.12 Higher Order Derivatives\\nLet’sstart this section withthe following function.\\nf (x) = 5 x3 − 3x2 + 10x − 5\\nBy this point we should be able to differentiate this function without any problems. Doing this we\\nget,\\nf′ (x) = 15 x2 − 6x + 10\\nNow, this is a function and so it can be differentiated. Here is the notation that we’ll use for that,\\naswell as the derivative.\\nf′′ (x) =\\n(\\nf′ (x)\\n)′ = 30 x − 6\\nThisis called thesecond derivative andf′ (x) isnow called thefirst derivative.\\nAgain, this is a function, so we can differentiate it again. This will be called thethird derivative .\\nHereis that derivativeas well as the notationfor the thirdderivative.\\nf′′′ (x) =\\n(\\nf′′ (x)\\n)′ = 30\\nContinuing,wecandifferentiateagain. Thisiscalled,oddlyenough,the fourth derivative. We’re\\nalso going to be changing notation at this point. We can keep adding on primes, but that will get\\ncumbersomeafter a while.\\nf(4) (x) =\\n(\\nf′′′ (x)\\n)′ = 0\\nThis process can continue but notice that we will get zero for all derivatives after this point. This\\nsetof derivatives leadsus to the followingfact about the differentiationof polynomials.\\nFact\\nIfp (x) isapolynomialofdegree n (i.e. thelargestexponentinthepolynomial)then,\\np(k) (x) = 0 fork ≥ n + 1\\nWe will need to be careful with the “non-prime” notation for derivatives. Consider each of the\\nfollowing.\\nf(2) (x) = f′′ (x)\\nf2 (x) =\\n[\\nf (x)\\n]2\\nThe presence of parenthesis in the exponent denotes differentiation while the absence of paren-\\nthesisdenotes exponentiation.\\nCollectivelythe second, third,fourth,etc. derivatives arecalledhigher order derivatives .\\n© Paul Dawkins Calculus – 279 –')]\n"
          ]
        }
      ],
      "source": [
        "# Define Groq model for LLM\n",
        "llm = ChatGroq(model=\"llama3-8b-8192\")\n",
        "\n",
        "# Define retrieval-based QA chain\n",
        "chain = RetrievalQA.from_chain_type(\n",
        "    llm=llm,\n",
        "    retriever=retriever,\n",
        "    return_source_documents=True  # Include source documents\n",
        ")\n",
        "\n",
        "# Ask a question and print response\n",
        "response = chain.invoke({\"query\": \"What is the derivative of x^2 + 3x + 2?\"})\n",
        "\n",
        "# Access the answer and source documents\n",
        "print(\"Answer:\", response[\"result\"])\n",
        "print(\"Source Documents:\", response[\"source_documents\"])\n",
        "\n",
        "# Define the math tool function\n",
        "def math_tool_function(query: str) -> str:\n",
        "    try:\n",
        "        return str(eval(query))\n",
        "    except Exception as e:\n",
        "        return f\"Error: {e}\"\n",
        "\n",
        "# Define the math tool\n",
        "math_tool = Tool(\n",
        "    name=\"MathTool\",\n",
        "    func=math_tool_function,\n",
        "    description=\"Tool for evaluating mathematical expressions.\"\n",
        ")"
      ]
    },
    {
      "cell_type": "code",
      "execution_count": null,
      "metadata": {
        "colab": {
          "base_uri": "https://localhost:8080/"
        },
        "id": "FAVN-Ju-vpN0",
        "outputId": "52f19c82-0910-40c0-b344-4ecb11dedafc"
      },
      "outputs": [
        {
          "name": "stderr",
          "output_type": "stream",
          "text": [
            "<ipython-input-4-10f03d10a13a>:10: LangChainDeprecationWarning: LangChain agents will continue to be supported, but it is recommended for new use cases to be built with LangGraph. LangGraph offers a more flexible and full-featured framework for building agents, including support for tool-calling, persistence of state, and human-in-the-loop workflows. See LangGraph documentation for more details: https://langchain-ai.github.io/langgraph/. Refer here for its pre-built ReAct agent: https://langchain-ai.github.io/langgraph/how-tos/create-react-agent/\n",
            "  agent = initialize_agent(\n"
          ]
        }
      ],
      "source": [
        "# Create a conversational retrieval chain\n",
        "retrieval_chain = ConversationalRetrievalChain.from_llm(\n",
        "    llm=llm,  # Your language model (e.g., Groq)\n",
        "    retriever=retriever,  # Your retriever (e.g., Chroma retriever)\n",
        "    return_source_documents=True  # This should ensure source docs are included\n",
        ")\n",
        "\n",
        "\n",
        "# Initialize an agent with the math tool and retrieval chain\n",
        "agent = initialize_agent(\n",
        "    tools=[math_tool],  # Include the math tool\n",
        "    agent=AgentType.CONVERSATIONAL_REACT_DESCRIPTION,  # Select an agent type\n",
        "    llm=llm,  # Your Groq model\n",
        "    verbose=True  # Optional: Set to True for debugging\n",
        ")\n",
        "\n"
      ]
    },
    {
      "cell_type": "code",
      "execution_count": null,
      "metadata": {
        "colab": {
          "base_uri": "https://localhost:8080/"
        },
        "id": "kPsQxuRzr0VL",
        "outputId": "7ab6bfce-cac5-4e3f-b429-497a878bb5f0"
      },
      "outputs": [
        {
          "name": "stdout",
          "output_type": "stream",
          "text": [
            "Retrieved Documents for Response 1: [Document(metadata={}, page_content='Chapter 3 : Derivatives Section 3.1 : The Definition of the Derivative\\nFirstplug the functioninto the definition ofthe derivative.\\nf′ (x) = lim\\nh→0\\nf (x + h) − f (x)\\nh\\n= lim\\nh→0\\n2(x + h)2 − 16 (x + h) + 35 −\\n(\\n2x2 − 16x + 35\\n)\\nh\\nBe careful and make sure that you properly deal with parenthesis when doing the subtract-\\ning.\\nNow,weknowfromthepreviouschapterthatwecan’tjustplugin h = 0 sincethiswillgiveus\\nadivisionbyzeroerror. So,wearegoingtohavetodosomework. Inthiscasethatmeans\\nmultiplyingeverythingoutanddistributingtheminussignthroughonthesecondterm. Doing\\nthisgives,\\nf′ (x) = lim\\nh→0\\n2x2 + 4xh + 2h2 − 16x − 16h + 35 − 2x2 + 16x − 35\\nh\\n= lim\\nh→0\\n4xh + 2h2 − 16h\\nh\\nNotice that every term in the numerator that didn’t have anh in it canceled out and we can\\nnow factor anh out of the numerator which will cancel against theh in the denominator.\\nAfterthat we can computethe limit.\\nf′ (x) = lim\\nh→0\\nh (4x + 2h − 16)\\nh\\n= lim\\nh→0\\n4x + 2h − 16\\n= 4 x − 16\\nSo,the derivative is,\\nf′ (x) = 4 x − 16\\nExample 2\\nFindthe derivative ofthe following functionusing the definitionof the derivative.\\ng (t) = t\\nt + 1\\nSolution\\nThisoneisgoingtobealittlemessierasfarasthealgebragoes. However,outsideofthatit\\n© Paul Dawkins Calculus – 186 –'), Document(metadata={}, page_content='Chapter 3 : Derivatives Section 3.3 : Differentiation Formulas\\nThisis a function thatwe can differentiate.\\nh′ (t) = 6 t2 + 10t−3\\nSo, as we saw in this example there are a few products and quotients that we can differentiate.\\nIf we can first do some simplification the functions will sometimes simplify into a form that can be\\ndifferentiatedusing theproperties and formulasin this section.\\nBefore moving on to the next section let’s work a couple of examples to remind us once again of\\nsomeof the interpretationsof the derivative.\\nExample 3\\nIsf (x) = 2 x3 + 300\\nx3 + 4 increasing,decreasing ornot changing atx = −2?\\nSolution\\nWe know that the rate of change of a function is given by the functions derivative so all\\nwe need to do is it rewrite the function (to deal with the second term) and then take the\\nderivative.\\nf (x) = 2 x3 + 300x−3 + 4 ⇒ f′ (x) = 6 x2 − 900x−4 = 6 x2 − 900\\nx4\\nNotethatwerewrotethelastterminthederivativebackasafraction. Thisisnotsomething\\nwe’ve done to this point and is only being done here to help with the evaluation in the next\\nstep. It’softeneasier to do theevaluation with positiveexponents.\\nSo,upon evaluatingthe derivative we get\\nf′ (−2) = 6 (4) − 900\\n16 = −129\\n4 = −32.25\\nSo,at x = −2 thederivative is negativeand so the functionis decreasing atx = −2.\\n© Paul Dawkins Calculus – 207 –'), Document(metadata={}, page_content='Chapter 4 : Derivative Applications Section 4.2 : Critical Points\\nNow,ourderivativeisapolynomialandsowillexisteverywhere. Therefore,theonlycritical\\npointswill be thosevalues ofx whichmake the derivativezero. So, wemust solve.\\n6x2 (5x − 3) (x + 5) = 0\\nBecausethisisthefactoredformofthederivativeit’sprettyeasytoidentifythethreecritical\\npoints. They are,\\nx = −5, x = 0 , x = 3\\n5\\nPolynomialsareusuallyfairlysimplefunctionstofindcriticalpointsforprovidedthedegreedoesn’t\\ngetso large that wehave trouble findingthe roots of thederivative.\\nMost of the more “interesting” functions for finding critical points aren’t polynomials however. So\\nlet’stake a lookat some functions that requirea little moreefforton our part.\\nExample 2\\nDetermineall the criticalpoints for the function.\\ng (t) =\\n3√\\nt2 (2t − 1)\\nSolution\\nTo find the derivative it’s probably easiest to do a little simplification before we actually dif-\\nferentiate. Let’smultiplytherootthroughtheparenthesisandsimplifyasmuchaspossible.\\nThiswill allow usto avoid using theproduct rule whentaking the derivative.\\ng (t) = t\\n2\\n3 (2t − 1) = 2 t\\n5\\n3 − t\\n2\\n3\\nNowdifferentiate.\\ng′ (t) = 10\\n3 t\\n2\\n3 − 2\\n3t−1\\n3 = 10t\\n2\\n3\\n3 − 2\\n3t\\n1\\n3\\nWewillneedtobecarefulwiththisproblem. Whenfacedwithanegativeexponentitisoften\\nbest to eliminate the minus sign in the exponent as we did above. This isn’t really required\\nbutit can make ourlife easier onoccasion if we dothat.\\nNoticeaswellthateliminatingthenegativeexponentinthesecondtermallowsustocorrectly\\nidentify whyt = 0 is a critical point for this function. Once we move the second term to the\\ndenominator we can clearly see that the derivative doesn’t exist att = 0 and so this will be\\nacriticalpoint. Ifyoudon’tgetridofthenegativeexponentinthesecondtermmanypeople\\nwillincorrectlystatethat t = 0 isacriticalpointbecausethederivativeiszeroat t = 0 . While\\n© Paul Dawkins Calculus – 294 –'), Document(metadata={}, page_content='Chapter 3 : Derivatives Section 3.12 : Higher Order Derivatives\\n3.12 Higher Order Derivatives\\nLet’sstart this section withthe following function.\\nf (x) = 5 x3 − 3x2 + 10x − 5\\nBy this point we should be able to differentiate this function without any problems. Doing this we\\nget,\\nf′ (x) = 15 x2 − 6x + 10\\nNow, this is a function and so it can be differentiated. Here is the notation that we’ll use for that,\\naswell as the derivative.\\nf′′ (x) =\\n(\\nf′ (x)\\n)′ = 30 x − 6\\nThisis called thesecond derivative andf′ (x) isnow called thefirst derivative.\\nAgain, this is a function, so we can differentiate it again. This will be called thethird derivative .\\nHereis that derivativeas well as the notationfor the thirdderivative.\\nf′′′ (x) =\\n(\\nf′′ (x)\\n)′ = 30\\nContinuing,wecandifferentiateagain. Thisiscalled,oddlyenough,the fourth derivative. We’re\\nalso going to be changing notation at this point. We can keep adding on primes, but that will get\\ncumbersomeafter a while.\\nf(4) (x) =\\n(\\nf′′′ (x)\\n)′ = 0\\nThis process can continue but notice that we will get zero for all derivatives after this point. This\\nsetof derivatives leadsus to the followingfact about the differentiationof polynomials.\\nFact\\nIfp (x) isapolynomialofdegree n (i.e. thelargestexponentinthepolynomial)then,\\np(k) (x) = 0 fork ≥ n + 1\\nWe will need to be careful with the “non-prime” notation for derivatives. Consider each of the\\nfollowing.\\nf(2) (x) = f′′ (x)\\nf2 (x) =\\n[\\nf (x)\\n]2\\nThe presence of parenthesis in the exponent denotes differentiation while the absence of paren-\\nthesisdenotes exponentiation.\\nCollectivelythe second, third,fourth,etc. derivatives arecalledhigher order derivatives .\\n© Paul Dawkins Calculus – 279 –')]\n",
            "\n",
            "\n",
            "\u001b[1m> Entering new AgentExecutor chain...\u001b[0m\n",
            "\u001b[32;1m\u001b[1;3mThought: Do I need to use a tool? Yes\n",
            "Action: MathTool\n",
            "Action Input: differentiate x^2 + 3x + 2\u001b[0m\n",
            "Observation: \u001b[36;1m\u001b[1;3mError: invalid decimal literal (<string>, line 1)\u001b[0m\n",
            "Thought:\u001b[32;1m\u001b[1;3mThought: Do I need to use a tool? No\n",
            "AI: The derivative of x^2 + 3x + 2 is 2x + 3.\u001b[0m\n",
            "\n",
            "\u001b[1m> Finished chain.\u001b[0m\n",
            "Response 1: {'input': 'What is the derivative of x^2 + 3x + 2?', 'chat_history': [], 'documents': [Document(metadata={}, page_content='Chapter 3 : Derivatives Section 3.1 : The Definition of the Derivative\\nFirstplug the functioninto the definition ofthe derivative.\\nf′ (x) = lim\\nh→0\\nf (x + h) − f (x)\\nh\\n= lim\\nh→0\\n2(x + h)2 − 16 (x + h) + 35 −\\n(\\n2x2 − 16x + 35\\n)\\nh\\nBe careful and make sure that you properly deal with parenthesis when doing the subtract-\\ning.\\nNow,weknowfromthepreviouschapterthatwecan’tjustplugin h = 0 sincethiswillgiveus\\nadivisionbyzeroerror. So,wearegoingtohavetodosomework. Inthiscasethatmeans\\nmultiplyingeverythingoutanddistributingtheminussignthroughonthesecondterm. Doing\\nthisgives,\\nf′ (x) = lim\\nh→0\\n2x2 + 4xh + 2h2 − 16x − 16h + 35 − 2x2 + 16x − 35\\nh\\n= lim\\nh→0\\n4xh + 2h2 − 16h\\nh\\nNotice that every term in the numerator that didn’t have anh in it canceled out and we can\\nnow factor anh out of the numerator which will cancel against theh in the denominator.\\nAfterthat we can computethe limit.\\nf′ (x) = lim\\nh→0\\nh (4x + 2h − 16)\\nh\\n= lim\\nh→0\\n4x + 2h − 16\\n= 4 x − 16\\nSo,the derivative is,\\nf′ (x) = 4 x − 16\\nExample 2\\nFindthe derivative ofthe following functionusing the definitionof the derivative.\\ng (t) = t\\nt + 1\\nSolution\\nThisoneisgoingtobealittlemessierasfarasthealgebragoes. However,outsideofthatit\\n© Paul Dawkins Calculus – 186 –'), Document(metadata={}, page_content='Chapter 3 : Derivatives Section 3.3 : Differentiation Formulas\\nThisis a function thatwe can differentiate.\\nh′ (t) = 6 t2 + 10t−3\\nSo, as we saw in this example there are a few products and quotients that we can differentiate.\\nIf we can first do some simplification the functions will sometimes simplify into a form that can be\\ndifferentiatedusing theproperties and formulasin this section.\\nBefore moving on to the next section let’s work a couple of examples to remind us once again of\\nsomeof the interpretationsof the derivative.\\nExample 3\\nIsf (x) = 2 x3 + 300\\nx3 + 4 increasing,decreasing ornot changing atx = −2?\\nSolution\\nWe know that the rate of change of a function is given by the functions derivative so all\\nwe need to do is it rewrite the function (to deal with the second term) and then take the\\nderivative.\\nf (x) = 2 x3 + 300x−3 + 4 ⇒ f′ (x) = 6 x2 − 900x−4 = 6 x2 − 900\\nx4\\nNotethatwerewrotethelastterminthederivativebackasafraction. Thisisnotsomething\\nwe’ve done to this point and is only being done here to help with the evaluation in the next\\nstep. It’softeneasier to do theevaluation with positiveexponents.\\nSo,upon evaluatingthe derivative we get\\nf′ (−2) = 6 (4) − 900\\n16 = −129\\n4 = −32.25\\nSo,at x = −2 thederivative is negativeand so the functionis decreasing atx = −2.\\n© Paul Dawkins Calculus – 207 –'), Document(metadata={}, page_content='Chapter 4 : Derivative Applications Section 4.2 : Critical Points\\nNow,ourderivativeisapolynomialandsowillexisteverywhere. Therefore,theonlycritical\\npointswill be thosevalues ofx whichmake the derivativezero. So, wemust solve.\\n6x2 (5x − 3) (x + 5) = 0\\nBecausethisisthefactoredformofthederivativeit’sprettyeasytoidentifythethreecritical\\npoints. They are,\\nx = −5, x = 0 , x = 3\\n5\\nPolynomialsareusuallyfairlysimplefunctionstofindcriticalpointsforprovidedthedegreedoesn’t\\ngetso large that wehave trouble findingthe roots of thederivative.\\nMost of the more “interesting” functions for finding critical points aren’t polynomials however. So\\nlet’stake a lookat some functions that requirea little moreefforton our part.\\nExample 2\\nDetermineall the criticalpoints for the function.\\ng (t) =\\n3√\\nt2 (2t − 1)\\nSolution\\nTo find the derivative it’s probably easiest to do a little simplification before we actually dif-\\nferentiate. Let’smultiplytherootthroughtheparenthesisandsimplifyasmuchaspossible.\\nThiswill allow usto avoid using theproduct rule whentaking the derivative.\\ng (t) = t\\n2\\n3 (2t − 1) = 2 t\\n5\\n3 − t\\n2\\n3\\nNowdifferentiate.\\ng′ (t) = 10\\n3 t\\n2\\n3 − 2\\n3t−1\\n3 = 10t\\n2\\n3\\n3 − 2\\n3t\\n1\\n3\\nWewillneedtobecarefulwiththisproblem. Whenfacedwithanegativeexponentitisoften\\nbest to eliminate the minus sign in the exponent as we did above. This isn’t really required\\nbutit can make ourlife easier onoccasion if we dothat.\\nNoticeaswellthateliminatingthenegativeexponentinthesecondtermallowsustocorrectly\\nidentify whyt = 0 is a critical point for this function. Once we move the second term to the\\ndenominator we can clearly see that the derivative doesn’t exist att = 0 and so this will be\\nacriticalpoint. Ifyoudon’tgetridofthenegativeexponentinthesecondtermmanypeople\\nwillincorrectlystatethat t = 0 isacriticalpointbecausethederivativeiszeroat t = 0 . While\\n© Paul Dawkins Calculus – 294 –'), Document(metadata={}, page_content='Chapter 3 : Derivatives Section 3.12 : Higher Order Derivatives\\n3.12 Higher Order Derivatives\\nLet’sstart this section withthe following function.\\nf (x) = 5 x3 − 3x2 + 10x − 5\\nBy this point we should be able to differentiate this function without any problems. Doing this we\\nget,\\nf′ (x) = 15 x2 − 6x + 10\\nNow, this is a function and so it can be differentiated. Here is the notation that we’ll use for that,\\naswell as the derivative.\\nf′′ (x) =\\n(\\nf′ (x)\\n)′ = 30 x − 6\\nThisis called thesecond derivative andf′ (x) isnow called thefirst derivative.\\nAgain, this is a function, so we can differentiate it again. This will be called thethird derivative .\\nHereis that derivativeas well as the notationfor the thirdderivative.\\nf′′′ (x) =\\n(\\nf′′ (x)\\n)′ = 30\\nContinuing,wecandifferentiateagain. Thisiscalled,oddlyenough,the fourth derivative. We’re\\nalso going to be changing notation at this point. We can keep adding on primes, but that will get\\ncumbersomeafter a while.\\nf(4) (x) =\\n(\\nf′′′ (x)\\n)′ = 0\\nThis process can continue but notice that we will get zero for all derivatives after this point. This\\nsetof derivatives leadsus to the followingfact about the differentiationof polynomials.\\nFact\\nIfp (x) isapolynomialofdegree n (i.e. thelargestexponentinthepolynomial)then,\\np(k) (x) = 0 fork ≥ n + 1\\nWe will need to be careful with the “non-prime” notation for derivatives. Consider each of the\\nfollowing.\\nf(2) (x) = f′′ (x)\\nf2 (x) =\\n[\\nf (x)\\n]2\\nThe presence of parenthesis in the exponent denotes differentiation while the absence of paren-\\nthesisdenotes exponentiation.\\nCollectivelythe second, third,fourth,etc. derivatives arecalledhigher order derivatives .\\n© Paul Dawkins Calculus – 279 –')], 'output': 'The derivative of x^2 + 3x + 2 is 2x + 3.'}\n",
            "\n",
            "\n",
            "\u001b[1m> Entering new AgentExecutor chain...\u001b[0m\n",
            "\u001b[32;1m\u001b[1;3mThought: Do I need to use a tool? No\n",
            "AI: I'm happy to help! However, I need a bit more context about what result you're referring to. Could you please clarify which result you're asking about?\u001b[0m\n",
            "\n",
            "\u001b[1m> Finished chain.\u001b[0m\n",
            "Response 2: {'input': 'Can you explain the result?', 'chat_history': [], 'documents': [Document(metadata={}, page_content='Chapter 3 : Derivatives Section 3.1 : The Definition of the Derivative\\nFirstplug the functioninto the definition ofthe derivative.\\nf′ (x) = lim\\nh→0\\nf (x + h) − f (x)\\nh\\n= lim\\nh→0\\n2(x + h)2 − 16 (x + h) + 35 −\\n(\\n2x2 − 16x + 35\\n)\\nh\\nBe careful and make sure that you properly deal with parenthesis when doing the subtract-\\ning.\\nNow,weknowfromthepreviouschapterthatwecan’tjustplugin h = 0 sincethiswillgiveus\\nadivisionbyzeroerror. So,wearegoingtohavetodosomework. Inthiscasethatmeans\\nmultiplyingeverythingoutanddistributingtheminussignthroughonthesecondterm. Doing\\nthisgives,\\nf′ (x) = lim\\nh→0\\n2x2 + 4xh + 2h2 − 16x − 16h + 35 − 2x2 + 16x − 35\\nh\\n= lim\\nh→0\\n4xh + 2h2 − 16h\\nh\\nNotice that every term in the numerator that didn’t have anh in it canceled out and we can\\nnow factor anh out of the numerator which will cancel against theh in the denominator.\\nAfterthat we can computethe limit.\\nf′ (x) = lim\\nh→0\\nh (4x + 2h − 16)\\nh\\n= lim\\nh→0\\n4x + 2h − 16\\n= 4 x − 16\\nSo,the derivative is,\\nf′ (x) = 4 x − 16\\nExample 2\\nFindthe derivative ofthe following functionusing the definitionof the derivative.\\ng (t) = t\\nt + 1\\nSolution\\nThisoneisgoingtobealittlemessierasfarasthealgebragoes. However,outsideofthatit\\n© Paul Dawkins Calculus – 186 –'), Document(metadata={}, page_content='Chapter 3 : Derivatives Section 3.3 : Differentiation Formulas\\nThisis a function thatwe can differentiate.\\nh′ (t) = 6 t2 + 10t−3\\nSo, as we saw in this example there are a few products and quotients that we can differentiate.\\nIf we can first do some simplification the functions will sometimes simplify into a form that can be\\ndifferentiatedusing theproperties and formulasin this section.\\nBefore moving on to the next section let’s work a couple of examples to remind us once again of\\nsomeof the interpretationsof the derivative.\\nExample 3\\nIsf (x) = 2 x3 + 300\\nx3 + 4 increasing,decreasing ornot changing atx = −2?\\nSolution\\nWe know that the rate of change of a function is given by the functions derivative so all\\nwe need to do is it rewrite the function (to deal with the second term) and then take the\\nderivative.\\nf (x) = 2 x3 + 300x−3 + 4 ⇒ f′ (x) = 6 x2 − 900x−4 = 6 x2 − 900\\nx4\\nNotethatwerewrotethelastterminthederivativebackasafraction. Thisisnotsomething\\nwe’ve done to this point and is only being done here to help with the evaluation in the next\\nstep. It’softeneasier to do theevaluation with positiveexponents.\\nSo,upon evaluatingthe derivative we get\\nf′ (−2) = 6 (4) − 900\\n16 = −129\\n4 = −32.25\\nSo,at x = −2 thederivative is negativeand so the functionis decreasing atx = −2.\\n© Paul Dawkins Calculus – 207 –'), Document(metadata={}, page_content='Chapter 4 : Derivative Applications Section 4.2 : Critical Points\\nNow,ourderivativeisapolynomialandsowillexisteverywhere. Therefore,theonlycritical\\npointswill be thosevalues ofx whichmake the derivativezero. So, wemust solve.\\n6x2 (5x − 3) (x + 5) = 0\\nBecausethisisthefactoredformofthederivativeit’sprettyeasytoidentifythethreecritical\\npoints. They are,\\nx = −5, x = 0 , x = 3\\n5\\nPolynomialsareusuallyfairlysimplefunctionstofindcriticalpointsforprovidedthedegreedoesn’t\\ngetso large that wehave trouble findingthe roots of thederivative.\\nMost of the more “interesting” functions for finding critical points aren’t polynomials however. So\\nlet’stake a lookat some functions that requirea little moreefforton our part.\\nExample 2\\nDetermineall the criticalpoints for the function.\\ng (t) =\\n3√\\nt2 (2t − 1)\\nSolution\\nTo find the derivative it’s probably easiest to do a little simplification before we actually dif-\\nferentiate. Let’smultiplytherootthroughtheparenthesisandsimplifyasmuchaspossible.\\nThiswill allow usto avoid using theproduct rule whentaking the derivative.\\ng (t) = t\\n2\\n3 (2t − 1) = 2 t\\n5\\n3 − t\\n2\\n3\\nNowdifferentiate.\\ng′ (t) = 10\\n3 t\\n2\\n3 − 2\\n3t−1\\n3 = 10t\\n2\\n3\\n3 − 2\\n3t\\n1\\n3\\nWewillneedtobecarefulwiththisproblem. Whenfacedwithanegativeexponentitisoften\\nbest to eliminate the minus sign in the exponent as we did above. This isn’t really required\\nbutit can make ourlife easier onoccasion if we dothat.\\nNoticeaswellthateliminatingthenegativeexponentinthesecondtermallowsustocorrectly\\nidentify whyt = 0 is a critical point for this function. Once we move the second term to the\\ndenominator we can clearly see that the derivative doesn’t exist att = 0 and so this will be\\nacriticalpoint. Ifyoudon’tgetridofthenegativeexponentinthesecondtermmanypeople\\nwillincorrectlystatethat t = 0 isacriticalpointbecausethederivativeiszeroat t = 0 . While\\n© Paul Dawkins Calculus – 294 –'), Document(metadata={}, page_content='Chapter 3 : Derivatives Section 3.12 : Higher Order Derivatives\\n3.12 Higher Order Derivatives\\nLet’sstart this section withthe following function.\\nf (x) = 5 x3 − 3x2 + 10x − 5\\nBy this point we should be able to differentiate this function without any problems. Doing this we\\nget,\\nf′ (x) = 15 x2 − 6x + 10\\nNow, this is a function and so it can be differentiated. Here is the notation that we’ll use for that,\\naswell as the derivative.\\nf′′ (x) =\\n(\\nf′ (x)\\n)′ = 30 x − 6\\nThisis called thesecond derivative andf′ (x) isnow called thefirst derivative.\\nAgain, this is a function, so we can differentiate it again. This will be called thethird derivative .\\nHereis that derivativeas well as the notationfor the thirdderivative.\\nf′′′ (x) =\\n(\\nf′′ (x)\\n)′ = 30\\nContinuing,wecandifferentiateagain. Thisiscalled,oddlyenough,the fourth derivative. We’re\\nalso going to be changing notation at this point. We can keep adding on primes, but that will get\\ncumbersomeafter a while.\\nf(4) (x) =\\n(\\nf′′′ (x)\\n)′ = 0\\nThis process can continue but notice that we will get zero for all derivatives after this point. This\\nsetof derivatives leadsus to the followingfact about the differentiationof polynomials.\\nFact\\nIfp (x) isapolynomialofdegree n (i.e. thelargestexponentinthepolynomial)then,\\np(k) (x) = 0 fork ≥ n + 1\\nWe will need to be careful with the “non-prime” notation for derivatives. Consider each of the\\nfollowing.\\nf(2) (x) = f′′ (x)\\nf2 (x) =\\n[\\nf (x)\\n]2\\nThe presence of parenthesis in the exponent denotes differentiation while the absence of paren-\\nthesisdenotes exponentiation.\\nCollectivelythe second, third,fourth,etc. derivatives arecalledhigher order derivatives .\\n© Paul Dawkins Calculus – 279 –')], 'output': \"I'm happy to help! However, I need a bit more context about what result you're referring to. Could you please clarify which result you're asking about?\"}\n",
            "\n",
            "\n",
            "\u001b[1m> Entering new AgentExecutor chain...\u001b[0m\n",
            "\u001b[32;1m\u001b[1;3mThought: Do I need to use a tool? Yes\n",
            "Action: MathTool\n",
            "Action Input: x + y = 5, 2x - y = 3\u001b[0m\n",
            "Observation: \u001b[36;1m\u001b[1;3mError: invalid decimal literal (<string>, line 1)\u001b[0m\n",
            "Thought:\u001b[32;1m\u001b[1;3mThought: Do I need to use a tool? Yes\n",
            "Action: MathTool\n",
            "Action Input: x + y = 5, 2x - y = 3\u001b[0m\n",
            "Observation: \u001b[36;1m\u001b[1;3mError: invalid decimal literal (<string>, line 1)\u001b[0m\n",
            "Thought:\u001b[32;1m\u001b[1;3mThought: Do I need to use a tool? Yes\n",
            "Action: MathTool\n",
            "Action Input: x + y = 5, 2x - y = 3\u001b[0m\n",
            "Observation: \u001b[36;1m\u001b[1;3mError: invalid decimal literal (<string>, line 1)\u001b[0m\n",
            "Thought:\u001b[32;1m\u001b[1;3mThought: Do I need to use a tool? Yes\n",
            "Action: MathTool\n",
            "Action Input: x + y = 5, 2x - y = 3\u001b[0m\n",
            "Observation: \u001b[36;1m\u001b[1;3mError: invalid decimal literal (<string>, line 1)\u001b[0m\n",
            "Thought:\u001b[32;1m\u001b[1;3mThought: Do I need to use a tool? Yes\n",
            "Action: MathTool\n",
            "Action Input: x + y = 5, 2x - y = 3\u001b[0m\n",
            "Observation: \u001b[36;1m\u001b[1;3mError: invalid decimal literal (<string>, line 1)\u001b[0m\n",
            "Thought:\u001b[32;1m\u001b[1;3mThought: Do I need to use a tool? Yes\n",
            "Action: MathTool\n",
            "Action Input: x + y = 5, 2x - y = 3\u001b[0m\n",
            "Observation: \u001b[36;1m\u001b[1;3mError: invalid decimal literal (<string>, line 1)\u001b[0m\n",
            "Thought:\u001b[32;1m\u001b[1;3mThought: Do I need to use a tool? Yes\n",
            "Action: MathTool\n",
            "Action Input: x + y = 5, 2x - y = 3\u001b[0m\n",
            "Observation: \u001b[36;1m\u001b[1;3mError: invalid decimal literal (<string>, line 1)\u001b[0m\n",
            "Thought:\u001b[32;1m\u001b[1;3mThought: Do I need to use a tool? Yes\n",
            "Action: MathTool\n",
            "Action Input: x + y = 5, 2x - y = 3\u001b[0m\n",
            "Observation: \u001b[36;1m\u001b[1;3mError: invalid decimal literal (<string>, line 1)\u001b[0m\n",
            "Thought:\u001b[32;1m\u001b[1;3mIt seems like the MathTool is not working correctly and keeps giving an error. Let me try to help you solve the system of linear equations manually.\n",
            "\n",
            "The given system of linear equations is:\n",
            "\n",
            "x + y = 5\n",
            "2x - y = 3\n",
            "\n",
            "We can solve this system using substitution or elimination. Let's use the elimination method.\n",
            "\n",
            "First, we can add the two equations to eliminate the y variable:\n",
            "\n",
            "(x + y) + (2x - y) = 5 + 3\n",
            "x + y + 2x - y = 8\n",
            "3x = 8\n",
            "\n",
            "Now, we can solve for x:\n",
            "\n",
            "x = 8/3\n",
            "\n",
            "Now that we have the value of x, we can substitute it into one of the original equations to solve for y. Let's use the first equation:\n",
            "\n",
            "x + y = 5\n",
            "(8/3) + y = 5\n",
            "\n",
            "Now, we can solve for y:\n",
            "\n",
            "y = 5 - (8/3)\n",
            "y = 5 - 2.67\n",
            "y = 2.33\n",
            "\n",
            "So, the solution to the system is x = 8/3 and y = 2.33.\n",
            "\n",
            "Thought: Do I need to use a tool? No\n",
            "AI: The solution to the system of linear equations is x = 8/3 and y = 2.33.\u001b[0m\n",
            "\n",
            "\u001b[1m> Finished chain.\u001b[0m\n",
            "Response 3: {'input': 'Solve the system of linear equations: x + y = 5, 2x - y = 3', 'chat_history': [], 'documents': [Document(metadata={}, page_content='12.1\\xa0\\xa0Three-Dimensional Coordinate Systems 705\\ny-coordinate and the points in a plane perpendicular to the z-axis have a common z-coordi-\\nnate. To write equations for these planes, we name the common coordinate’s value. The \\nplanex = 2 is the plane perpendicular to the x-axis at x = 2. The plane y = 3 is the \\nplane perpendicular to the y-axis at y = 3. The plane z = 5 is the plane perpendicular to \\nthe z-axis at z = 5. Figure 12.3 shows the planes x = 2, y = 3, and z = 5, together with \\ntheir intersection point (2, 3, 5).\\nThe planes x = 2 and y = 3 in Figure 12.3 intersect in a line parallel to the z-axis.\\nThis line is described by the pair of equations x = 2, y = 3. A point ( x, y, z) lies on the \\nline if and only if x = 2 and y = 3. Similarly, the line of intersection of the planes y = 3\\nand z = 5 is described by the equation pair y = 3, z = 5. This line runs parallel to the \\nx-axis. The line of intersection of the planes x = 2 and z = 5, parallel to the y-axis, is \\ndescribed by the equation pair x = 2, z = 5.\\nIn the following examples, we match coordinate equations and inequalities with the \\nsets of points they define in space.\\nEXAMPLE 1   We interpret these equations and inequalities geometrically.\\n(a) z Ú 0 The half-space consisting of the points on and above \\nthe xy-plane.\\n(b) x =- 3 The plane perpendicular to the x-axis at x =- 3. This \\nplane lies parallel to the yz-plane and 3 units behind it.\\n(c) z = 0, x … 0, y Ú 0 The second quadrant of the xy-plane.\\n(d) x Ú 0, y Ú 0, z Ú 0 The first octant.\\n(e) -1 … y … 1 The slab between the planes y =- 1 and y = 1\\n(planes included).\\n(f) y =- 2, z = 2 The line in which the planes y =- 2 and z = 2 inter-\\nsect. Alternatively, the line through the point (0,-2, 2)\\nparallel to the x-axis.\\nEXAMPLE 2   What points P(x, y, z) satisfy the equations\\nx2 + y2 = 4a n d z = 3?\\nSolution The points lie in the horizontal plane z = 3 and, in this plane, make up the \\ncircle x2 + y2 = 4. We call this set of points “the circle x2 + y2 = 4 in the plane z = 3”\\nor, more simply, “the circle x2 + y2 = 4, z = 3” (Figure 12.4).\\nz\\nyz-plane: x =0\\nxz-plane: y =0\\nxy-plane: z =0\\ny\\nx\\n(0, 0, 0)\\nOrigin\\nFIGURE 12.2 The planes x = 0, y = 0, and z = 0 divide \\nspace into eight octants.\\ny\\nz\\nx\\n(0, 0, 5) (2, 3, 5)\\n(0, 3, 0)\\n(2, 0, 0)\\n0\\nLine y = 3, z =5\\nLine x = 2, z =5\\nPlane y =3\\nLine x = 2, y =3\\nPlane z =5\\nPlane x =2\\nFIGURE 12.3 The planes x = 2, y = 3, and \\nz = 5 determine three lines through the point (2, 3, 5).\\nx\\nz\\n(0, 2, 0)\\ny(2, 0, 0)\\n(0, 2, 3)\\nThe circle\\nx2 +y2 = 4, z =3\\nThe plane\\nz =3\\nx2 +y2 = 4, z =0\\n(2, 0, 3)\\nFIGURE 12.4 The circle x2 + y2 = 4\\nin the plane z = 3 (Example 2).'), Document(metadata={}, page_content='Chapter 12 : 3 Dimensional Space Section 12.2 : Equations of Lines\\nOnce we’ve got⃗ vthere really isn’t anything else to do. To use the vector form we’ll need\\na point on the line. We’ve got two and so we can use either one. We’ll use the first point.\\nHereis the vector formof the line.\\n⃗ r= ⟨2, −1, 3⟩ + t ⟨1, −5, 6⟩ = ⟨2 + t, −1 − 5t, 3 + 6 t⟩\\nOnce we have this equation the other two forms follow. Here are the parametric equations\\nofthe line.\\nx = 2 + t\\ny = −1 − 5t\\nz = 3 + 6 t\\nHereis the symmetric form.\\nx − 2\\n1 = y + 1\\n−5 = z − 3\\n6\\nExample 2\\nDetermine if the line that passes through the point(0, −3, 8) and is parallel to the line given\\nby x = 10 + 3 t, y = 12 t and z = −3 − t passes through thexz-plane. If it does give the\\ncoordinatesof that point.\\nSolution\\nTo answer this we will first need to write down the equation of the line. We know a point\\non the line and just need a parallel vector. We know that the new line must be parallel to\\nthe line given by the parametric equations in the problem statement. That means that any\\nvectorthat is parallelto the given linemust also be parallelto the newline.\\nNow recall that in the parametric form of the line the numbers multiplied byt are the com-\\nponentsof the vectorthatis parallel tothe line. Therefore,the vector,\\n⃗ v= ⟨3, 12, −1⟩\\nisparallel to thegiven line andso must also be parallelto the newline.\\nTheequation of newline is then,\\n⃗ r= ⟨0, −3, 8⟩ + t ⟨3, 12, −1⟩ = ⟨3t, −3 + 12 t, 8 − t⟩\\nIf this line passes through thexz-plane then we know that they-coordinate of that point\\nmustbezero. So,let’ssetthe y componentoftheequationequaltozeroandseeifwecan\\n© Paul Dawkins Calculus – 931 –'), Document(metadata={}, page_content='736 Chapter 12: Vectors and the Geometry of Space \\nEXAMPLE 7   Find an equation for the plane through A(0, 0, 1), B(2, 0, 0), and C(0, 3, 0).\\nSolution We find a vector normal to the plane and use it with one of the points (it does \\nnot matter which) to write an equation for the plane.\\nThe cross product\\nrAB * rAC = 3\\nij k\\n20 -1\\n03 -1\\n3 = 3i + 2j + 6k\\nis normal to the plane. We substitute the components of this vector and the coordinates of \\nA(0, 0, 1) into the component form of the equation to obtain\\n3(x - 0) + 2(y - 0) + 6(z - 1) = 0\\n3x + 2y + 6z = 6.\\nLines of Intersection\\nJust as lines are parallel if and only if they have the same direction, two planes are parallel\\nif and only if their normals are parallel, or n1 = kn2 for some scalar k. Two planes that are \\nnot parallel intersect in a line.\\nEXAMPLE 8   Find a vector parallel to the line of intersection of the planes \\n3x - 6y - 2z = 15 and 2x + y - 2z = 5.\\nSolution The line of intersection of two planes is perpendicular to both planes’ normal \\nvectors n1 and n2 (Figure 12.40) and therefore parallel to n1 * n2 . Turning this around, \\nn1 * n2 is a vector parallel to the planes’ line of intersection. In our case,\\nn1 * n2 = 3\\nij k\\n3 -6 -2\\n21 -2\\n3 = 14i + 2j + 15k.\\nAny nonzero scalar multiple of n1 * n2 will do as well.\\nEXAMPLE 9   Find parametric equations for the line in which the planes \\n3x - 6y - 2z = 15 and 2x + y - 2z = 5 intersect.\\nSolution We find a vector parallel to the line and a point on the line and use Equations (3).\\nExample 8 identifies v = 14i + 2j + 15k as a vector parallel to the line. To find a \\npoint on the line, we can take any point common to the two planes. Substituting z = 0 in \\nthe plane equations and solving for x and y simultaneously identifies one of these points as \\n(3, -1, 0). The line is\\nx = 3 + 14t, y =- 1 + 2t, z = 15t.\\nThe choice z = 0 is arbitrary and we could have chosen z = 1 or z =- 1 just as well. Or \\nwe could have let x = 0 and solved for y and z. The different choices would simply give \\ndifferent parametrizations of the same line.\\nSometimes we want to know where a line and a plane intersect. For example, if we are \\nlooking at a flat plate and a line segment passes through it, we may be interested in know-\\ning what portion of the line segment is hidden from our view by the plate. This application \\nis used in computer graphics (Exercise 74).\\nPLAN\\nE2\\nPLAN\\nE1\\nn1 ×n2\\nn2\\nn1\\nFIGURE 12.40 How the line of \\nintersection of two planes is related to \\nthe planes’ normal vectors (Example 8).'), Document(metadata={}, page_content='738 Chapter 12: Vectors and the Geometry of Space \\nThe points on the plane easiest to find from the plane’s equation are the intercepts. If \\nwe take P to be the y-intercept (0, 3, 0), then\\nrPS = (1 - 0)i + (1 - 3)j + (3 - 0)k\\n= i - 2j + 3k,\\n0n 0 = 2(3)2 + (2)2 + (6)2 = 249 = 7.\\nThe distance from S to the plane is\\nd = ` rPS # n\\n0n 0 `   Length of projn\\nrPS\\n= `(i - 2j + 3k) # a3\\n7 i + 2\\n7 j + 6\\n7 kb`\\n= ` 3\\n7 - 4\\n7 + 18\\n7 ` = 17\\n7 .\\nAngles Between Planes\\nThe angle between two intersecting planes is defined to be the acute angle between their \\nnormal vectors (Figure 12.42).\\nEXAMPLE 12   Find the angle between the planes 3 x - 6y - 2z = 15 and \\n2x + y - 2z = 5.\\nSolution The vectors\\nn1 = 3i - 6j - 2k, n2 = 2i + j - 2k\\nare normals to the planes. The angle between them is\\nu = cos-1 a n1 # n2\\n0n1 00 n2 0 b\\n= cos-1 a 4\\n21b\\n≈ 1.38 radians. About 79 degrees\\nn2\\nn1\\nu\\nu\\nFIGURE 12.42 The angle between two \\nplanes is obtained from the angle between \\ntheir normals.\\nLines and Line Segments\\nFind parametric equations for the lines in Exercises 1–12.\\n1. The line through the point P(3, -4, -1) parallel to the vector \\ni + j + k\\n2. The line through P(1, 2, -1) and Q(-1, 0, 1)\\n3. The line through P(-2, 0, 3) and Q(3, 5, -2)\\n4. The line through P(1, 2, 0) and Q(1, 1, -1)\\n5. The line through the origin parallel to the vector 2j + k\\n6. The line through the point (3, -2, 1) parallel to the line \\nx = 1 + 2t, y = 2 - t, z = 3t\\n7. The line through (1, 1, 1) parallel to the z-axis\\n8. The line through (2, 4, 5) perpendicular to the plane \\n3x + 7y - 5z = 21\\n9. The line through (0, -7, 0) perpendicular to the plane \\nx + 2y + 2z = 13\\n10. The line through (2, 3, 0) perpendicular to the vectors u = i +\\n2j + 3k and v = 3i + 4j + 5k\\n11. The x-axis 12. The z-axis\\nFind parametrizations for the line segments joining the points in Exer-\\ncises 13–20. Draw coordinate axes and sketch each segment, indicat-\\ning the direction of increasing t for your parametrization.\\n13. (0, 0, 0), (1, 1, 3 >2) 14. (0, 0, 0),   (1, 0, 0)\\n15. (1, 0, 0), (1, 1, 0) 16. (1, 1, 0),   (1, 1, 1)\\n17. (0, 1, 1), (0, -1, 1) 18. (0, 2, 0),   (3, 0, 0)\\n19. (2, 0, 2), (0, 2, 0) 20. (1, 0, -1), (0, 3, 0)\\nExercises 12.5')], 'output': 'The solution to the system of linear equations is x = 8/3 and y = 2.33.'}\n",
            "\n",
            "\n",
            "\u001b[1m> Entering new AgentExecutor chain...\u001b[0m\n",
            "\u001b[32;1m\u001b[1;3mThought: Do I need to use a tool? No\n",
            "AI: When you ask me to explain the solution and how it was derived from the documents, I'll do my best to provide a clear and concise explanation. I'll analyze the documents and identify the key points, concepts, and relationships that led to the solution. I'll then present the explanation in a logical and easy-to-follow manner, highlighting the steps taken to arrive at the solution.\n",
            "\n",
            "To give you a better understanding of how I derive solutions, I'll break down the process into several stages:\n",
            "\n",
            "1. **Analysis**: I'll carefully read and analyze the documents to identify the relevant information, key terms, and concepts.\n",
            "2. **Pattern recognition**: I'll use pattern recognition techniques to identify relationships between the concepts, ideas, and information presented in the documents.\n",
            "3. **Inference**: I'll draw inferences from the patterns recognized, using my understanding of the subject matter and the context in which the documents were written.\n",
            "4. **Solution derivation**: I'll use the inferences drawn to derive the solution, taking into account the constraints, assumptions, and limitations presented in the documents.\n",
            "5. **Explanation generation**: I'll generate an explanation of the solution, presenting the steps taken and the thought process involved in arriving at the solution.\n",
            "\n",
            "By following this process, I'll provide a clear and concise explanation of the solution and how it was derived from the documents. If you have any specific documents or information you'd like me to work with, please feel free to provide them, and I'll do my best to assist you.\u001b[0m\n",
            "\n",
            "\u001b[1m> Finished chain.\u001b[0m\n",
            "Response 4: {'input': 'Can you explain the solution and how it was derived from the documents?', 'chat_history': [], 'documents': [Document(metadata={}, page_content='12.1\\xa0\\xa0Three-Dimensional Coordinate Systems 705\\ny-coordinate and the points in a plane perpendicular to the z-axis have a common z-coordi-\\nnate. To write equations for these planes, we name the common coordinate’s value. The \\nplanex = 2 is the plane perpendicular to the x-axis at x = 2. The plane y = 3 is the \\nplane perpendicular to the y-axis at y = 3. The plane z = 5 is the plane perpendicular to \\nthe z-axis at z = 5. Figure 12.3 shows the planes x = 2, y = 3, and z = 5, together with \\ntheir intersection point (2, 3, 5).\\nThe planes x = 2 and y = 3 in Figure 12.3 intersect in a line parallel to the z-axis.\\nThis line is described by the pair of equations x = 2, y = 3. A point ( x, y, z) lies on the \\nline if and only if x = 2 and y = 3. Similarly, the line of intersection of the planes y = 3\\nand z = 5 is described by the equation pair y = 3, z = 5. This line runs parallel to the \\nx-axis. The line of intersection of the planes x = 2 and z = 5, parallel to the y-axis, is \\ndescribed by the equation pair x = 2, z = 5.\\nIn the following examples, we match coordinate equations and inequalities with the \\nsets of points they define in space.\\nEXAMPLE 1   We interpret these equations and inequalities geometrically.\\n(a) z Ú 0 The half-space consisting of the points on and above \\nthe xy-plane.\\n(b) x =- 3 The plane perpendicular to the x-axis at x =- 3. This \\nplane lies parallel to the yz-plane and 3 units behind it.\\n(c) z = 0, x … 0, y Ú 0 The second quadrant of the xy-plane.\\n(d) x Ú 0, y Ú 0, z Ú 0 The first octant.\\n(e) -1 … y … 1 The slab between the planes y =- 1 and y = 1\\n(planes included).\\n(f) y =- 2, z = 2 The line in which the planes y =- 2 and z = 2 inter-\\nsect. Alternatively, the line through the point (0,-2, 2)\\nparallel to the x-axis.\\nEXAMPLE 2   What points P(x, y, z) satisfy the equations\\nx2 + y2 = 4a n d z = 3?\\nSolution The points lie in the horizontal plane z = 3 and, in this plane, make up the \\ncircle x2 + y2 = 4. We call this set of points “the circle x2 + y2 = 4 in the plane z = 3”\\nor, more simply, “the circle x2 + y2 = 4, z = 3” (Figure 12.4).\\nz\\nyz-plane: x =0\\nxz-plane: y =0\\nxy-plane: z =0\\ny\\nx\\n(0, 0, 0)\\nOrigin\\nFIGURE 12.2 The planes x = 0, y = 0, and z = 0 divide \\nspace into eight octants.\\ny\\nz\\nx\\n(0, 0, 5) (2, 3, 5)\\n(0, 3, 0)\\n(2, 0, 0)\\n0\\nLine y = 3, z =5\\nLine x = 2, z =5\\nPlane y =3\\nLine x = 2, y =3\\nPlane z =5\\nPlane x =2\\nFIGURE 12.3 The planes x = 2, y = 3, and \\nz = 5 determine three lines through the point (2, 3, 5).\\nx\\nz\\n(0, 2, 0)\\ny(2, 0, 0)\\n(0, 2, 3)\\nThe circle\\nx2 +y2 = 4, z =3\\nThe plane\\nz =3\\nx2 +y2 = 4, z =0\\n(2, 0, 3)\\nFIGURE 12.4 The circle x2 + y2 = 4\\nin the plane z = 3 (Example 2).'), Document(metadata={}, page_content='Chapter 12 : 3 Dimensional Space Section 12.2 : Equations of Lines\\nOnce we’ve got⃗ vthere really isn’t anything else to do. To use the vector form we’ll need\\na point on the line. We’ve got two and so we can use either one. We’ll use the first point.\\nHereis the vector formof the line.\\n⃗ r= ⟨2, −1, 3⟩ + t ⟨1, −5, 6⟩ = ⟨2 + t, −1 − 5t, 3 + 6 t⟩\\nOnce we have this equation the other two forms follow. Here are the parametric equations\\nofthe line.\\nx = 2 + t\\ny = −1 − 5t\\nz = 3 + 6 t\\nHereis the symmetric form.\\nx − 2\\n1 = y + 1\\n−5 = z − 3\\n6\\nExample 2\\nDetermine if the line that passes through the point(0, −3, 8) and is parallel to the line given\\nby x = 10 + 3 t, y = 12 t and z = −3 − t passes through thexz-plane. If it does give the\\ncoordinatesof that point.\\nSolution\\nTo answer this we will first need to write down the equation of the line. We know a point\\non the line and just need a parallel vector. We know that the new line must be parallel to\\nthe line given by the parametric equations in the problem statement. That means that any\\nvectorthat is parallelto the given linemust also be parallelto the newline.\\nNow recall that in the parametric form of the line the numbers multiplied byt are the com-\\nponentsof the vectorthatis parallel tothe line. Therefore,the vector,\\n⃗ v= ⟨3, 12, −1⟩\\nisparallel to thegiven line andso must also be parallelto the newline.\\nTheequation of newline is then,\\n⃗ r= ⟨0, −3, 8⟩ + t ⟨3, 12, −1⟩ = ⟨3t, −3 + 12 t, 8 − t⟩\\nIf this line passes through thexz-plane then we know that they-coordinate of that point\\nmustbezero. So,let’ssetthe y componentoftheequationequaltozeroandseeifwecan\\n© Paul Dawkins Calculus – 931 –'), Document(metadata={}, page_content='736 Chapter 12: Vectors and the Geometry of Space \\nEXAMPLE 7   Find an equation for the plane through A(0, 0, 1), B(2, 0, 0), and C(0, 3, 0).\\nSolution We find a vector normal to the plane and use it with one of the points (it does \\nnot matter which) to write an equation for the plane.\\nThe cross product\\nrAB * rAC = 3\\nij k\\n20 -1\\n03 -1\\n3 = 3i + 2j + 6k\\nis normal to the plane. We substitute the components of this vector and the coordinates of \\nA(0, 0, 1) into the component form of the equation to obtain\\n3(x - 0) + 2(y - 0) + 6(z - 1) = 0\\n3x + 2y + 6z = 6.\\nLines of Intersection\\nJust as lines are parallel if and only if they have the same direction, two planes are parallel\\nif and only if their normals are parallel, or n1 = kn2 for some scalar k. Two planes that are \\nnot parallel intersect in a line.\\nEXAMPLE 8   Find a vector parallel to the line of intersection of the planes \\n3x - 6y - 2z = 15 and 2x + y - 2z = 5.\\nSolution The line of intersection of two planes is perpendicular to both planes’ normal \\nvectors n1 and n2 (Figure 12.40) and therefore parallel to n1 * n2 . Turning this around, \\nn1 * n2 is a vector parallel to the planes’ line of intersection. In our case,\\nn1 * n2 = 3\\nij k\\n3 -6 -2\\n21 -2\\n3 = 14i + 2j + 15k.\\nAny nonzero scalar multiple of n1 * n2 will do as well.\\nEXAMPLE 9   Find parametric equations for the line in which the planes \\n3x - 6y - 2z = 15 and 2x + y - 2z = 5 intersect.\\nSolution We find a vector parallel to the line and a point on the line and use Equations (3).\\nExample 8 identifies v = 14i + 2j + 15k as a vector parallel to the line. To find a \\npoint on the line, we can take any point common to the two planes. Substituting z = 0 in \\nthe plane equations and solving for x and y simultaneously identifies one of these points as \\n(3, -1, 0). The line is\\nx = 3 + 14t, y =- 1 + 2t, z = 15t.\\nThe choice z = 0 is arbitrary and we could have chosen z = 1 or z =- 1 just as well. Or \\nwe could have let x = 0 and solved for y and z. The different choices would simply give \\ndifferent parametrizations of the same line.\\nSometimes we want to know where a line and a plane intersect. For example, if we are \\nlooking at a flat plate and a line segment passes through it, we may be interested in know-\\ning what portion of the line segment is hidden from our view by the plate. This application \\nis used in computer graphics (Exercise 74).\\nPLAN\\nE2\\nPLAN\\nE1\\nn1 ×n2\\nn2\\nn1\\nFIGURE 12.40 How the line of \\nintersection of two planes is related to \\nthe planes’ normal vectors (Example 8).'), Document(metadata={}, page_content='738 Chapter 12: Vectors and the Geometry of Space \\nThe points on the plane easiest to find from the plane’s equation are the intercepts. If \\nwe take P to be the y-intercept (0, 3, 0), then\\nrPS = (1 - 0)i + (1 - 3)j + (3 - 0)k\\n= i - 2j + 3k,\\n0n 0 = 2(3)2 + (2)2 + (6)2 = 249 = 7.\\nThe distance from S to the plane is\\nd = ` rPS # n\\n0n 0 `   Length of projn\\nrPS\\n= `(i - 2j + 3k) # a3\\n7 i + 2\\n7 j + 6\\n7 kb`\\n= ` 3\\n7 - 4\\n7 + 18\\n7 ` = 17\\n7 .\\nAngles Between Planes\\nThe angle between two intersecting planes is defined to be the acute angle between their \\nnormal vectors (Figure 12.42).\\nEXAMPLE 12   Find the angle between the planes 3 x - 6y - 2z = 15 and \\n2x + y - 2z = 5.\\nSolution The vectors\\nn1 = 3i - 6j - 2k, n2 = 2i + j - 2k\\nare normals to the planes. The angle between them is\\nu = cos-1 a n1 # n2\\n0n1 00 n2 0 b\\n= cos-1 a 4\\n21b\\n≈ 1.38 radians. About 79 degrees\\nn2\\nn1\\nu\\nu\\nFIGURE 12.42 The angle between two \\nplanes is obtained from the angle between \\ntheir normals.\\nLines and Line Segments\\nFind parametric equations for the lines in Exercises 1–12.\\n1. The line through the point P(3, -4, -1) parallel to the vector \\ni + j + k\\n2. The line through P(1, 2, -1) and Q(-1, 0, 1)\\n3. The line through P(-2, 0, 3) and Q(3, 5, -2)\\n4. The line through P(1, 2, 0) and Q(1, 1, -1)\\n5. The line through the origin parallel to the vector 2j + k\\n6. The line through the point (3, -2, 1) parallel to the line \\nx = 1 + 2t, y = 2 - t, z = 3t\\n7. The line through (1, 1, 1) parallel to the z-axis\\n8. The line through (2, 4, 5) perpendicular to the plane \\n3x + 7y - 5z = 21\\n9. The line through (0, -7, 0) perpendicular to the plane \\nx + 2y + 2z = 13\\n10. The line through (2, 3, 0) perpendicular to the vectors u = i +\\n2j + 3k and v = 3i + 4j + 5k\\n11. The x-axis 12. The z-axis\\nFind parametrizations for the line segments joining the points in Exer-\\ncises 13–20. Draw coordinate axes and sketch each segment, indicat-\\ning the direction of increasing t for your parametrization.\\n13. (0, 0, 0), (1, 1, 3 >2) 14. (0, 0, 0),   (1, 0, 0)\\n15. (1, 0, 0), (1, 1, 0) 16. (1, 1, 0),   (1, 1, 1)\\n17. (0, 1, 1), (0, -1, 1) 18. (0, 2, 0),   (3, 0, 0)\\n19. (2, 0, 2), (0, 2, 0) 20. (1, 0, -1), (0, 3, 0)\\nExercises 12.5')], 'output': \"When you ask me to explain the solution and how it was derived from the documents, I'll do my best to provide a clear and concise explanation. I'll analyze the documents and identify the key points, concepts, and relationships that led to the solution. I'll then present the explanation in a logical and easy-to-follow manner, highlighting the steps taken to arrive at the solution.\\n\\nTo give you a better understanding of how I derive solutions, I'll break down the process into several stages:\\n\\n1. **Analysis**: I'll carefully read and analyze the documents to identify the relevant information, key terms, and concepts.\\n2. **Pattern recognition**: I'll use pattern recognition techniques to identify relationships between the concepts, ideas, and information presented in the documents.\\n3. **Inference**: I'll draw inferences from the patterns recognized, using my understanding of the subject matter and the context in which the documents were written.\\n4. **Solution derivation**: I'll use the inferences drawn to derive the solution, taking into account the constraints, assumptions, and limitations presented in the documents.\\n5. **Explanation generation**: I'll generate an explanation of the solution, presenting the steps taken and the thought process involved in arriving at the solution.\\n\\nBy following this process, I'll provide a clear and concise explanation of the solution and how it was derived from the documents. If you have any specific documents or information you'd like me to work with, please feel free to provide them, and I'll do my best to assist you.\"}\n"
          ]
        }
      ],
      "source": [
        "# Define an empty chat history for the initial query\n",
        "chat_history = []\n",
        "\n",
        "# Step 1: Retrieve relevant documents for the first query\n",
        "documents_1 = retriever.get_relevant_documents(\"What is the derivative of x^2 + 3x + 2?\")\n",
        "print(\"Retrieved Documents for Response 1:\", documents_1)\n",
        "\n",
        "# Step 2: Ask the first question and update chat history, passing the documents\n",
        "response_1 = agent.invoke({\n",
        "    \"input\": \"What is the derivative of x^2 + 3x + 2?\",\n",
        "    \"chat_history\": chat_history,\n",
        "    \"documents\": documents_1  # Pass the retrieved documents as context\n",
        "})\n",
        "\n",
        "# Print the response to inspect its structure and the source documents\n",
        "print(\"Response 1:\", response_1)\n",
        "\n",
        "# Check the structure of the response\n",
        "if isinstance(response_1, dict) and \"result\" in response_1:\n",
        "    # If 'result' key exists, process as usual\n",
        "    chat_history.append({\"role\": \"user\", \"content\": \"What is the derivative of x^2 + 3x + 2?\"})\n",
        "    chat_history.append({\"role\": \"assistant\", \"content\": response_1[\"result\"]})\n",
        "\n",
        "    # Print the source documents if available\n",
        "    if 'source_documents' in response_1:\n",
        "        print(\"Source Documents for Response 1:\", response_1['source_documents'])\n",
        "    else:\n",
        "        print(\"No source documents available for Response 1.\")\n",
        "\n",
        "# Step 3: Ask the second question using the updated chat history\n",
        "response_2 = agent.invoke({\n",
        "    \"input\": \"Can you explain the result?\",\n",
        "    \"chat_history\": chat_history,\n",
        "    \"documents\": documents_1  # Pass the same documents if needed\n",
        "})\n",
        "\n",
        "# Print the second response for debugging and the source documents\n",
        "print(\"Response 2:\", response_2)\n",
        "\n",
        "# Handle response_2 similarly as above\n",
        "if isinstance(response_2, dict) and \"result\" in response_2:\n",
        "    chat_history.append({\"role\": \"user\", \"content\": \"Can you explain the result?\"})\n",
        "    chat_history.append({\"role\": \"assistant\", \"content\": response_2[\"result\"]})\n",
        "\n",
        "    # Print the source documents if available\n",
        "    if \"source_documents\" in response_2:\n",
        "        print(\"Source Documents for Response 2:\", response_2[\"source_documents\"])\n",
        "\n",
        "# Step 4: Ask the third question related to Linear Algebra using the content of the PDFs\n",
        "documents_3 = retriever.get_relevant_documents(\"Solve the system of linear equations: x + y = 5, 2x - y = 3\")\n",
        "response_3 = agent.invoke({\n",
        "    \"input\": \"Solve the system of linear equations: x + y = 5, 2x - y = 3\",\n",
        "    \"chat_history\": chat_history,\n",
        "    \"documents\": documents_3  # Pass the retrieved documents for this question\n",
        "})\n",
        "\n",
        "# Print the third response for debugging and the source documents\n",
        "print(\"Response 3:\", response_3)\n",
        "\n",
        "# Handle response_3 similarly as above\n",
        "if isinstance(response_3, dict) and \"result\" in response_3:\n",
        "    chat_history.append({\"role\": \"user\", \"content\": \"Solve the system of linear equations: x + y = 5, 2x - y = 3\"})\n",
        "    chat_history.append({\"role\": \"assistant\", \"content\": response_3[\"result\"]})\n",
        "\n",
        "    # Print the source documents if available\n",
        "    if \"source_documents\" in response_3:\n",
        "        print(\"Source Documents for Response 3:\", response_3[\"source_documents\"])\n",
        "\n",
        "# Step 5: Ask a follow-up question related to the solution\n",
        "response_4 = agent.invoke({\n",
        "    \"input\": \"Can you explain the solution and how it was derived from the documents?\",\n",
        "    \"chat_history\": chat_history,\n",
        "    \"documents\": documents_3  # Pass the same documents if needed\n",
        "})\n",
        "\n",
        "# Print the response and source documents\n",
        "print(\"Response 4:\", response_4)\n",
        "\n",
        "# Check for source documents in response_4\n",
        "if isinstance(response_4, dict) and \"result\" in response_4:\n",
        "    # Print the source documents if available\n",
        "    if \"source_documents\" in response_4:\n",
        "        print(\"Source Documents for Response 4:\", response_4[\"source_documents\"])\n"
      ]
    },
    {
      "cell_type": "code",
      "execution_count": 12,
      "metadata": {
        "id": "vhK38PhC1AWF"
      },
      "outputs": [],
      "source": [
        "# Save Hugging Face model and tokenizer to disk\n",
        "model_name = \"sentence-transformers/all-MiniLM-L6-v2\"\n",
        "tokenizer = AutoTokenizer.from_pretrained(model_name)\n",
        "hf_model = AutoModel.from_pretrained(model_name)\n",
        "\n",
        "# Save models\n",
        "tokenizer.save_pretrained(\"/content/all-MiniLM-L6-v2-tokenizer\")\n",
        "hf_model.save_pretrained(\"/content/all-MiniLM-L6-v2-model\")\n"
      ]
    },
    {
      "cell_type": "code",
      "execution_count": 15,
      "metadata": {
        "id": "A7G6esO45N8K"
      },
      "outputs": [],
      "source": [
        "from langchain.vectorstores import Chroma\n",
        "\n",
        "# Save the Chroma vector store to disk\n",
        "vectorstore = Chroma.from_texts(document_texts, embedding=hf_embeddings, persist_directory=\"/content/vectorstore\")\n",
        "# Pass persist_directory during initialization\n",
        "\n",
        "# The persist() method is called automatically when persist_directory is provided during initialization.\n",
        "# You no longer need to call vectorstore.persist() separately."
      ]
    },
    {
      "cell_type": "code",
      "execution_count": 16,
      "metadata": {
        "id": "PL91UZVX5RUp"
      },
      "outputs": [],
      "source": [
        "# Upload the files manually or programmatically if necessary\n",
        "pdf_files = [\n",
        "    \"/content/Calculus.pdf\",\n",
        "    \"/content/Thomas' Calculus--13th Edition.pdf\",\n",
        "    \"/content/Linear Algebra And Its Applications - David C Lay.pdf\",\n",
        "    \"/content/Walpole Stats.pdf\"  # Ensure these paths are correct in your environment\n",
        "]\n"
      ]
    },
    {
      "cell_type": "code",
      "execution_count": 21,
      "metadata": {
        "id": "zjO33V-v532h"
      },
      "outputs": [],
      "source": [
        "# Save the tokenizer and model locally\n",
        "tokenizer.save_pretrained(\"./saved_tokenizer\")\n",
        "hf_model.save_pretrained(\"./saved_model\")\n"
      ]
    },
    {
      "cell_type": "code",
      "execution_count": 22,
      "metadata": {
        "id": "oHghXak073bV"
      },
      "outputs": [],
      "source": [
        "# Save the tokenizer and model locally in Colab\n",
        "model_save_path = \"/content/saved_model\"\n",
        "tokenizer_save_path = \"/content/saved_tokenizer\"\n",
        "\n",
        "tokenizer.save_pretrained(tokenizer_save_path)\n",
        "hf_model.save_pretrained(model_save_path)\n"
      ]
    },
    {
      "cell_type": "code",
      "execution_count": 25,
      "metadata": {
        "colab": {
          "base_uri": "https://localhost:8080/"
        },
        "id": "cQrziEoM_xrX",
        "outputId": "2e1353fb-4775-480b-9185-c140ea9f6f59"
      },
      "outputs": [
        {
          "name": "stdout",
          "output_type": "stream",
          "text": [
            "Vectorstore persisted to: /content/vectorstore\n"
          ]
        }
      ],
      "source": [
        "# Save the vectorstore in Colab\n",
        "vectorstore_save_path = \"/content/vectorstore\"\n",
        "\n",
        "# The persist() method is no longer needed. The vectorstore is already persisted during creation.\n",
        "# Instead of calling persist, this line is just for information\n",
        "print(f\"Vectorstore persisted to: {vectorstore_save_path}\")\n",
        "\n",
        "# You should have already persisted it using the following in a previous cell:\n",
        "# vectorstore = Chroma.from_texts(document_texts, embedding=hf_embeddings, persist_directory=vectorstore_save_path)"
      ]
    },
    {
      "cell_type": "code",
      "execution_count": 27,
      "metadata": {
        "colab": {
          "base_uri": "https://localhost:8080/",
          "height": 17
        },
        "id": "80_aioXU_zpN",
        "outputId": "276c1e0a-f640-4a19-9ae5-e77b10745880"
      },
      "outputs": [
        {
          "data": {
            "application/javascript": "\n    async function download(id, filename, size) {\n      if (!google.colab.kernel.accessAllowed) {\n        return;\n      }\n      const div = document.createElement('div');\n      const label = document.createElement('label');\n      label.textContent = `Downloading \"${filename}\": `;\n      div.appendChild(label);\n      const progress = document.createElement('progress');\n      progress.max = size;\n      div.appendChild(progress);\n      document.body.appendChild(div);\n\n      const buffers = [];\n      let downloaded = 0;\n\n      const channel = await google.colab.kernel.comms.open(id);\n      // Send a message to notify the kernel that we're ready.\n      channel.send({})\n\n      for await (const message of channel.messages) {\n        // Send a message to notify the kernel that we're ready.\n        channel.send({})\n        if (message.buffers) {\n          for (const buffer of message.buffers) {\n            buffers.push(buffer);\n            downloaded += buffer.byteLength;\n            progress.value = downloaded;\n          }\n        }\n      }\n      const blob = new Blob(buffers, {type: 'application/binary'});\n      const a = document.createElement('a');\n      a.href = window.URL.createObjectURL(blob);\n      a.download = filename;\n      div.appendChild(a);\n      a.click();\n      div.remove();\n    }\n  ",
            "text/plain": [
              "<IPython.core.display.Javascript object>"
            ]
          },
          "metadata": {},
          "output_type": "display_data"
        },
        {
          "data": {
            "application/javascript": "download(\"download_9ab2f69f-4be6-4aa8-9e87-d733b0d5caac\", \"saved_model_and_tokenizer.zip\", 116638955)",
            "text/plain": [
              "<IPython.core.display.Javascript object>"
            ]
          },
          "metadata": {},
          "output_type": "display_data"
        }
      ],
      "source": [
        "from google.colab import files\n",
        "import shutil\n",
        "\n",
        "# Zip the model and tokenizer folders to download\n",
        "shutil.make_archive(\"/content/saved_model_and_tokenizer\", 'zip', \"/content\")\n",
        "\n",
        "# Download the zip file to your local machine\n",
        "files.download(\"/content/saved_model_and_tokenizer.zip\")\n"
      ]
    },
    {
      "cell_type": "code",
      "execution_count": 28,
      "metadata": {
        "colab": {
          "base_uri": "https://localhost:8080/",
          "height": 17
        },
        "id": "QyzA1nCM_5py",
        "outputId": "cd34f6ce-cf87-4a68-a696-b1090d1e23cf"
      },
      "outputs": [
        {
          "data": {
            "application/javascript": "\n    async function download(id, filename, size) {\n      if (!google.colab.kernel.accessAllowed) {\n        return;\n      }\n      const div = document.createElement('div');\n      const label = document.createElement('label');\n      label.textContent = `Downloading \"${filename}\": `;\n      div.appendChild(label);\n      const progress = document.createElement('progress');\n      progress.max = size;\n      div.appendChild(progress);\n      document.body.appendChild(div);\n\n      const buffers = [];\n      let downloaded = 0;\n\n      const channel = await google.colab.kernel.comms.open(id);\n      // Send a message to notify the kernel that we're ready.\n      channel.send({})\n\n      for await (const message of channel.messages) {\n        // Send a message to notify the kernel that we're ready.\n        channel.send({})\n        if (message.buffers) {\n          for (const buffer of message.buffers) {\n            buffers.push(buffer);\n            downloaded += buffer.byteLength;\n            progress.value = downloaded;\n          }\n        }\n      }\n      const blob = new Blob(buffers, {type: 'application/binary'});\n      const a = document.createElement('a');\n      a.href = window.URL.createObjectURL(blob);\n      a.download = filename;\n      div.appendChild(a);\n      a.click();\n      div.remove();\n    }\n  ",
            "text/plain": [
              "<IPython.core.display.Javascript object>"
            ]
          },
          "metadata": {},
          "output_type": "display_data"
        },
        {
          "data": {
            "application/javascript": "download(\"download_750373ff-713a-4402-b724-ceaa42376ac7\", \"vectorstore.zip\", 26055544)",
            "text/plain": [
              "<IPython.core.display.Javascript object>"
            ]
          },
          "metadata": {},
          "output_type": "display_data"
        }
      ],
      "source": [
        "# Zip the vectorstore folder to download\n",
        "shutil.make_archive(\"/content/vectorstore\", 'zip', \"/content/vectorstore\")\n",
        "\n",
        "# Download the zip file to your local machine\n",
        "files.download(\"/content/vectorstore.zip\")\n"
      ]
    },
    {
      "cell_type": "code",
      "execution_count": null,
      "metadata": {
        "id": "6KzQujcuAThl"
      },
      "outputs": [],
      "source": []
    }
  ],
  "metadata": {
    "accelerator": "GPU",
    "colab": {
      "gpuType": "T4",
      "provenance": []
    },
    "kernelspec": {
      "display_name": "Python 3",
      "name": "python3"
    },
    "language_info": {
      "name": "python"
    }
  },
  "nbformat": 4,
  "nbformat_minor": 0
}
